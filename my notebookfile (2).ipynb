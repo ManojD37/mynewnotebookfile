{
 "cells": [
  {
   "cell_type": "markdown",
   "id": "0b00fec2-c511-4853-9e3b-564b3cc2e7d0",
   "metadata": {},
   "source": [
    "# My Jupyter Notebook on IBM Watson Studio"
   ]
  },
  {
   "cell_type": "markdown",
   "id": "25e054da-c0d2-4eb9-8a3c-35fcdd0b1a09",
   "metadata": {},
   "source": [
    "**Manoj**"
   ]
  },
  {
   "cell_type": "markdown",
   "id": "d34e6c2f-9267-44db-a68d-ab98de9dbd3c",
   "metadata": {},
   "source": [
    "Data sceince engineer"
   ]
  },
  {
   "cell_type": "markdown",
   "id": "5d6eec5e-b9c2-4a54-b836-4a50394fdf1f",
   "metadata": {},
   "source": [
    "_I love datascience because Data is a vital asset for any business but, unless it is used efficiently, it is of no use. Data science is something that turns vague data into meaningful insights that can be used to make various crucial decisions in an organization_"
   ]
  },
  {
   "cell_type": "markdown",
   "id": "97badc19-250f-491c-b7ec-709f443793e5",
   "metadata": {},
   "source": [
    "### The following code is adding 2 numbers"
   ]
  },
  {
   "cell_type": "code",
   "execution_count": 6,
   "id": "aa8ba0ea-0a02-4dd2-989a-e00ba633b35e",
   "metadata": {},
   "outputs": [
    {
     "data": {
      "text/plain": [
       "5"
      ]
     },
     "execution_count": 6,
     "metadata": {},
     "output_type": "execute_result"
    }
   ],
   "source": [
    "def add(a,b):\n",
    "    return(a+b)\n",
    "add(2,3)"
   ]
  },
  {
   "cell_type": "markdown",
   "id": "72a52539-3146-4e2f-af5d-0b6f29b15850",
   "metadata": {},
   "source": [
    "1. Fruit\n",
    "  * [Apple](https://www.google.com/search?q=rickroll+gif&tbm=isch&ved=2ahUKEwjQhvaamK78AhV79XMBHdh-Dg0Q2-cCegQIABAA&oq=r&gs_lcp=CgNpbWcQARgAMgQIIxAnMgQIIxAnMgQIABBDMgQIABBDMgQIABBDMgcIABCxAxBDMgQIABBDMgQIABBDMgQIABBDMgQIABBDOgUIABCABDoHCCMQ6gIQJzoICAAQgAQQsQNQ2wVYwBBgxxhoA3AAeACAAVGIAawCkgEBNJgBAKABAaoBC2d3cy13aXotaW1nsAEKwAEB&sclient=img&ei=sZW1Y5DqBfvqz7sP2P25aA&rlz=1C1CHBF_enIN923IN923)\n",
    "  * [pear](https://www.google.com/search?q=pear+fruit&rlz=1C1CHBF_enIN923IN923&sxsrf=AJOqlzU3upCgBU9W9qnFg4LsIFTKML4RTQ:1672844478270&source=lnms&tbm=isch&sa=X&ved=2ahUKEwjO25Cnl678AhVmT2wGHbwsA9kQ_AUoAXoECAEQAw)\n",
    "  * [mango](https://www.google.com/search?q=mango+fruit&tbm=isch&ved=2ahUKEwiF_u-ol678AhWAitgFHVnHBowQ2-cCegQIABAA&oq=mango+fruit&gs_lcp=CgNpbWcQAzIECCMQJzIFCAAQgAQyBQgAEIAEMgUIABCABDIECAAQQzIFCAAQgAQyBQgAEIAEMgUIABCABDIFCAAQgAQyBQgAEIAEOgcIABCxAxBDOgYIABAHEB46BwgAEIAEEBNQ9wRY3A5gyxBoAHAAeACAAZQBiAH-BJIBAzYuMZgBAKABAaoBC2d3cy13aXotaW1nwAEB&sclient=img&ei=wZS1Y8WZOICV4t4P2Y6b4Ag&rlz=1C1CHBF_enIN923IN923)\n",
    "  "
   ]
  },
  {
   "cell_type": "code",
   "execution_count": null,
   "id": "fd267462-5d92-4bc9-8eb2-8d6c7a029b41",
   "metadata": {},
   "outputs": [],
   "source": []
  }
 ],
 "metadata": {
  "kernelspec": {
   "display_name": "Python",
   "language": "python",
   "name": "conda-env-python-py"
  },
  "language_info": {
   "codemirror_mode": {
    "name": "ipython",
    "version": 3
   },
   "file_extension": ".py",
   "mimetype": "text/x-python",
   "name": "python",
   "nbconvert_exporter": "python",
   "pygments_lexer": "ipython3",
   "version": "3.7.12"
  }
 },
 "nbformat": 4,
 "nbformat_minor": 5
}
